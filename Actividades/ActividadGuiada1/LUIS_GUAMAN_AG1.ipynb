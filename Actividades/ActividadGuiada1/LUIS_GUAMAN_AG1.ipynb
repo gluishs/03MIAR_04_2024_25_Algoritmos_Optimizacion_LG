{
  "nbformat": 4,
  "nbformat_minor": 0,
  "metadata": {
    "colab": {
      "provenance": [],
      "authorship_tag": "ABX9TyN6xvDtx2QYybzRc9qgreNC",
      "include_colab_link": true
    },
    "kernelspec": {
      "name": "python3",
      "display_name": "Python 3"
    },
    "language_info": {
      "name": "python"
    }
  },
  "cells": [
    {
      "cell_type": "markdown",
      "metadata": {
        "id": "view-in-github",
        "colab_type": "text"
      },
      "source": [
        "<a href=\"https://colab.research.google.com/github/gluishs/03MIAR_04_2024_25_Algoritmos_Optimizacion_LG/blob/main/LUIS_GUAMAN_AG1.ipynb\" target=\"_parent\"><img src=\"https://colab.research.google.com/assets/colab-badge.svg\" alt=\"Open In Colab\"/></a>"
      ]
    },
    {
      "cell_type": "markdown",
      "source": [
        "#Primera clase guiada\n",
        "\n",
        "\n"
      ],
      "metadata": {
        "id": "3tBwg5yzw7BZ"
      }
    },
    {
      "cell_type": "markdown",
      "source": [
        "**ACTIVIDAD GUIADA NRO 1** ALGORITMOS DE OPTIMIZACIÓN\n",
        "LUIS R. GUAMAN<br/>\n",
        "Link de Git Hub: https://github.com/gluishs/03MIAR_04_2024_25_Algoritmos_Optimizacion_LG/<br/>\n",
        "Link GoogleColab: https://colab.research.google.com/drive/1ir9vLEh3dbXXZso6HN1x2unOm9G7jPH-?usp=sharing\n"
      ],
      "metadata": {
        "id": "Js5Sd_B79bNV"
      }
    },
    {
      "cell_type": "markdown",
      "source": [],
      "metadata": {
        "id": "oF_PwLiy9Prd"
      }
    },
    {
      "cell_type": "markdown",
      "source": [
        "DIVIDE Y VENCERAS TORRES DE HANOI"
      ],
      "metadata": {
        "id": "M_d_nVEUfbI7"
      }
    },
    {
      "cell_type": "code",
      "source": [
        "#Torres de Hanoi - Divide y venceras\n",
        "################################################################################\n",
        "\n",
        "\n",
        "################################################################\n",
        "def Torres_Hanoi(N, desde, hasta):\n",
        "  #N - Nº de fichas\n",
        "  #desde - torre inicial\n",
        "  #hasta - torre fina\n",
        "  if N==1 :\n",
        "    print(\"Lleva la ficha desde \" + str(desde) + \" hasta \" + str(hasta))\n",
        "\n",
        "  else:\n",
        "    Torres_Hanoi(N-1, desde, 6-desde-hasta)\n",
        "    print(\"Lleva la ficha desde \" + str(desde) + \" hasta \" + str(hasta))\n",
        "    Torres_Hanoi(N-1, 6-desde-hasta,  hasta)\n",
        "\n",
        "Torres_Hanoi(3, 1, 3)\n",
        "################################################################\n",
        "#PUNTOS EXTRAS SI SE HACE ALGO MAS COMO EJEMPLO CON FOR"
      ],
      "metadata": {
        "colab": {
          "base_uri": "https://localhost:8080/"
        },
        "id": "epqmL9Td8ecd",
        "outputId": "d5eaccc0-6c9c-4262-dc30-219c333cc7cd"
      },
      "execution_count": 3,
      "outputs": [
        {
          "output_type": "stream",
          "name": "stdout",
          "text": [
            "Lleva la ficha desde 1 hasta 3\n",
            "Lleva la ficha desde 1 hasta 2\n",
            "Lleva la ficha desde 3 hasta 2\n",
            "Lleva la ficha desde 1 hasta 3\n",
            "Lleva la ficha desde 2 hasta 1\n",
            "Lleva la ficha desde 2 hasta 3\n",
            "Lleva la ficha desde 1 hasta 3\n"
          ]
        }
      ]
    },
    {
      "cell_type": "markdown",
      "source": [
        "Algortimos voraces <br/>\n",
        "Problema cambio emonedas"
      ],
      "metadata": {
        "id": "zvjJihWXBLhN"
      }
    },
    {
      "cell_type": "code",
      "source": [
        "SISTEMA = [25,10,5,1]\n",
        "  #probar para distintos valores de N y probar con distintos sistemas"
      ],
      "metadata": {
        "id": "TFOcrVuIB8I-"
      },
      "execution_count": null,
      "outputs": []
    },
    {
      "cell_type": "code",
      "source": [
        "#Cambio de monedas - Técnica voraz\n",
        "################################################################################\n",
        "SISTEMA = [11, 5 ,  1  ]\n",
        "################################################################\n",
        "def cambio_monedas(CANTIDAD,SISTEMA):\n",
        "#....\n",
        "  SOLUCION = [0]*len(SISTEMA)\n",
        "  ValorAcumulado = 0\n",
        "\n",
        "  for i,valor in enumerate(SISTEMA):\n",
        "    monedas = (CANTIDAD-ValorAcumulado)//valor\n",
        "    SOLUCION[i] = monedas\n",
        "    ValorAcumulado = ValorAcumulado + monedas*valor\n",
        "\n",
        "    if CANTIDAD == ValorAcumulado:\n",
        "      return SOLUCION\n",
        "\n",
        "  print(\"No es posible encontrar solucion\")\n",
        "\n",
        "#cambio_monedas(15,SISTEMA)\n",
        "print(cambio_monedas(15,[11, 5 ,  1  ]))#Para 15$ devuelve en la pos 1 value 11 + pos 4 value 4\n",
        "cambio_monedas(2,[11, 5 ,  1  ])#Para $2 devuelve el la posion(2) 2 veces\n",
        "\n",
        "\n",
        "################################################################"
      ],
      "metadata": {
        "colab": {
          "base_uri": "https://localhost:8080/"
        },
        "id": "zCkKSFCQBWws",
        "outputId": "216fec6c-1139-4143-e8ca-1efb2d89127a"
      },
      "execution_count": 16,
      "outputs": [
        {
          "output_type": "stream",
          "name": "stdout",
          "text": [
            "[1, 0, 4]\n"
          ]
        },
        {
          "output_type": "execute_result",
          "data": {
            "text/plain": [
              "[0, 0, 2]"
            ]
          },
          "metadata": {},
          "execution_count": 16
        }
      ]
    },
    {
      "cell_type": "markdown",
      "source": [
        "Algoritmo de Técnica Vuelta Atras:Bactracking\n"
      ],
      "metadata": {
        "id": "8vz6gf3YGeyV"
      }
    },
    {
      "cell_type": "code",
      "source": [
        "#N Reinas - Vuelta Atrás()\n",
        "################################################################################\n",
        "\n",
        "#Verifica que en la solución parcial no hay amenzas entre reinas\n",
        "################################################################\n",
        "def es_prometedora(SOLUCION,etapa):\n",
        "################################################################\n",
        "  #print(SOLUCION, etapa)\n",
        "  #Si la solución tiene dos valores iguales no es valida => Dos reinas en la misma fila\n",
        "  for i in range(etapa+1):\n",
        "    #print(\"El valor \" + str(SOLUCION[i]) + \" está \" +  str(SOLUCION.count(SOLUCION[i])) + \" veces\")\n",
        "    if SOLUCION.count(SOLUCION[i]) > 1:\n",
        "      return False\n",
        "\n",
        "    #Verifica las diagonales\n",
        "    for j in range(i+1, etapa +1 ):\n",
        "      #print(\"Comprobando diagonal de \" + str(i) + \" y \" + str(j))\n",
        "      #print(abs(i-j), abs(SOLUCION[i]-SOLUCION[j]))\n",
        "      if abs(i-j) == abs(SOLUCION[i]-SOLUCION[j]) : return False\n",
        "  return True\n",
        "\n",
        "#Traduce la solución al tablero\n",
        "################################################################\n",
        "def escribe_solucion(S):\n",
        "################################################################\n",
        "  n = len(S)\n",
        "  for x in range(n):\n",
        "    print(\"\")\n",
        "    for i in range(n):\n",
        "      if S[i] == x+1:\n",
        "        print(\" X \" , end=\"\")\n",
        "      else:\n",
        "        print(\" - \", end=\"\")\n",
        "\n",
        "\n",
        "\n",
        "#Proceso principal de N-Reinas\n",
        "################################################################\n",
        "def reinas(N, solucion=[],etapa=0):\n",
        "################################################################\n",
        "### ....\n",
        "  if len(solucion) == 0:         # [0,0,0...]\n",
        "    solucion = [0 for i in range(N) ]\n",
        "\n",
        "  for i in range(1, N+1):\n",
        "    solucion[etapa] = i\n",
        "    if es_prometedora(solucion, etapa):\n",
        "      if etapa == N-1:\n",
        "        print(solucion)\n",
        "        escribe_solucion(solucion)\n",
        "      else:\n",
        "        reinas(N, solucion, etapa+1)\n",
        "    else:\n",
        "      None\n",
        "\n",
        "  solucion[etapa] = 0\n",
        "\n",
        "reinas(4,solucion=[],etapa=0)\n",
        "#reinas(8)"
      ],
      "metadata": {
        "colab": {
          "base_uri": "https://localhost:8080/"
        },
        "id": "aqt-tVcJGkvF",
        "outputId": "e0021793-8672-4150-8309-4512023c1883"
      },
      "execution_count": 51,
      "outputs": [
        {
          "output_type": "stream",
          "name": "stdout",
          "text": [
            "[2, 4, 1, 3]\n",
            "\n",
            " -  -  X  - \n",
            " X  -  -  - \n",
            " -  -  -  X \n",
            " -  X  -  - [3, 1, 4, 2]\n",
            "\n",
            " -  X  -  - \n",
            " -  -  -  X \n",
            " X  -  -  - \n",
            " -  -  X  - "
          ]
        }
      ]
    },
    {
      "cell_type": "markdown",
      "source": [
        "PROGRAMACION DINAMICA\n",
        "Problema: Viaje por el rio"
      ],
      "metadata": {
        "id": "scsN6yDRju9j"
      }
    },
    {
      "cell_type": "code",
      "source": [
        "#Viaje por el rio - Programacion dinamica\n",
        "def Precios(TARIFAS):\n",
        "  #Total de Nodos\n",
        "  N = len(TARIFAS[0])\n",
        "\n",
        "  #Inicializacion de la tabla de precios\n",
        "  PRECIOS = [ [9999]*N for i in [9999]*N]\n",
        "  RUTA = [[\"\"]*N for i in[\"\"]*N]\n",
        "\n",
        "  for i in range(N-1):\n",
        "    for j in range(i+1, N):\n",
        "      MIN = TARIFAS[i][j]\n",
        "      RUTA[i][j] = i\n",
        "\n",
        "      for k in range(i, j):\n",
        "        if PRECIOS[i][k] + TARIFAS[k][j] < MIN:\n",
        "          MIN = min(MIN, PRECIOS[i][k] + TARIFAS[k][j])\n",
        "          RUTA[i][j] = k\n",
        "        PRECIOS[i][j] = MIN\n",
        "  return PRECIOS, RUTA\n",
        "\n",
        "TARIFAS =[\n",
        "    [0,5,4,3,999,999,999],\n",
        "    [999,0,999,2,3,999,11],\n",
        "    [999,999,0,1,999,4,10],\n",
        "    [999,999,999,0,5,6,9],\n",
        "    [999,999,999,999,0,999,4],\n",
        "    [999,999,999,999,999,0,3],\n",
        "    [999,999,999,999,999,999,0]\n",
        "]\n",
        "\n",
        "PRECIOS = Precios(TARIFAS)\n",
        "\n",
        "#RUTA = Precios(TARIFAS)\n",
        "\n",
        "def calcular_ruta(RUTA, desde, hasta):\n",
        "  #print(RUTA)\n",
        "  if desde == hasta:\n",
        "    #print(\"Ir a :\" + str(desde))\n",
        "    return desde\n",
        "  else:\n",
        "    return str(calcular_ruta(RUTA, desde, RUTA[desde][hasta])) + ',' + str(RUTA[desde][hasta])\n",
        "\n",
        "\n",
        "print(\"\\n La RUTA es:\")\n",
        "print(calcular_ruta(PRECIOS[1], 0,6))\n",
        "\n",
        "PRECIOS\n"
      ],
      "metadata": {
        "colab": {
          "base_uri": "https://localhost:8080/"
        },
        "id": "q63F83HmkD4c",
        "outputId": "fcfe0621-8af0-473a-be21-79884bfaf43e"
      },
      "execution_count": 50,
      "outputs": [
        {
          "output_type": "stream",
          "name": "stdout",
          "text": [
            "\n",
            " La RUTA es:\n",
            "0,0,2,5\n"
          ]
        },
        {
          "output_type": "execute_result",
          "data": {
            "text/plain": [
              "([[9999, 5, 4, 3, 8, 8, 11],\n",
              "  [9999, 9999, 999, 2, 3, 8, 7],\n",
              "  [9999, 9999, 9999, 1, 6, 4, 7],\n",
              "  [9999, 9999, 9999, 9999, 5, 6, 9],\n",
              "  [9999, 9999, 9999, 9999, 9999, 999, 4],\n",
              "  [9999, 9999, 9999, 9999, 9999, 9999, 3],\n",
              "  [9999, 9999, 9999, 9999, 9999, 9999, 9999]],\n",
              " [['', 0, 0, 0, 1, 2, 5],\n",
              "  ['', '', 1, 1, 1, 3, 4],\n",
              "  ['', '', '', 2, 3, 2, 5],\n",
              "  ['', '', '', '', 3, 3, 3],\n",
              "  ['', '', '', '', '', 4, 4],\n",
              "  ['', '', '', '', '', '', 5],\n",
              "  ['', '', '', '', '', '', '']])"
            ]
          },
          "metadata": {},
          "execution_count": 50
        }
      ]
    },
    {
      "cell_type": "markdown",
      "source": [
        "**PRÁCTICA INDIVIDUAL**<br/>\n",
        "**Problema: Encontrar los dos puntos más cercanos**<br/>\n",
        "• Dado un conjunto de puntos se trata de encontrar los dos puntos más cercanos<br/>\n",
        "• Guía para aprendizaje:<br/>\n",
        " Suponer en 1D, o sea, una lista de números: [3403, 4537, 9089, 9746, 7259, …<br/>\n",
        " Primer intento: Fuerza bruta<br/>\n",
        " Calcular la complejidad. ¿Se puede mejorar?<br/>\n",
        " Segundo intento. Aplicar Divide y Vencerás<br/>\n",
        " Calcular la complejidad. ¿Se puede mejorar?<br/>\n",
        " Extender el algoritmo a 2D: [(1122, 6175), (135, 4076), (7296, 2741)…<br/>\n",
        " Extender el algoritmo a 3D.\n"
      ],
      "metadata": {
        "id": "ojX03e6G0WUg"
      }
    },
    {
      "cell_type": "markdown",
      "source": [
        "Fuerza Bruta La función de fuerza bruta compara cada par de puntos y calcula la distancia entre ellos. Para 𝑛 n puntos, la complejidad temporal es:\n",
        "𝑂 ( 𝑛 2 ) O(n 2 )<br/>\n",
        "Divide y Vencerás La función de \"Divide y Vencerás\" es mucho más eficiente para grandes conjuntos de datos. Este enfoque sigue los siguientes pasos:\n",
        "\n",
        "Divide los puntos en dos mitades. Encuentra los puntos más cercanos en cada mitad recursivamente. Combina los resultados para encontrar los puntos más cercanos en el conjunto original. La complejidad temporal de este algoritmo es:\n",
        "\n",
        "𝑂 ( 𝑛 log ⁡ 𝑛 ) O(nlogn)"
      ],
      "metadata": {
        "id": "Fv7JIioLXspK"
      }
    },
    {
      "cell_type": "markdown",
      "source": [
        "**ALGORITMOS POR FUERZA BRUTA PARA 1D, 2D Y 3D**"
      ],
      "metadata": {
        "id": "4lk7ppQJYEI5"
      }
    },
    {
      "cell_type": "code",
      "source": [
        "#1D\n",
        "#Problema: Encontrar los dos puntos más cercanos\n",
        "#FUERZA BRUTA\n",
        "def puntos_cercanos_fuerza_bruta_1d(points):\n",
        "    distancia_minima = max(points) #Distancia mínima entre dos puntos\n",
        "    p1, p2 = None, None #Puntos cercanos\n",
        "    n = len(points)\n",
        "    for i in range(n):\n",
        "        for j in range(i + 1, n):\n",
        "            distancia = abs(points[i] - points[j])\n",
        "            if distancia < distancia_minima:\n",
        "                distancia_minima = distancia\n",
        "                p1, p2 = points[i], points[j]\n",
        "    return p1, p2, distancia_minima\n"
      ],
      "metadata": {
        "id": "zvyG-8xoYM3a"
      },
      "execution_count": 1,
      "outputs": []
    },
    {
      "cell_type": "code",
      "source": [
        "#2D\n",
        "#Problema: Encontrar los dos puntos más cercanos\n",
        "#FUERZA BRUTA\n",
        "def distancia_2d(p1, p2):\n",
        "    return math.sqrt((p1[0] - p2[0])**2 + (p1[1] - p2[1])**2)\n",
        "\n",
        "def puntos_cercanos_fuerza_bruta_2d(points):\n",
        "    distancia_minima = float('inf') #Distancia mínima entre dos puntos\n",
        "    p1, p2 = None, None #Puntos cercanos\n",
        "    n = len(points)\n",
        "    for i in range(n):\n",
        "        for j in range(i + 1, n):\n",
        "            distancia = distancia_2d(points[i], points[j])\n",
        "            if distancia < distancia_minima:\n",
        "                distancia_minima = distancia\n",
        "                p1, p2 = points[i], points[j]\n",
        "    return p1, p2, distancia_minima"
      ],
      "metadata": {
        "id": "Nb1daucpbnYR"
      },
      "execution_count": 2,
      "outputs": []
    },
    {
      "cell_type": "code",
      "source": [
        "#3D\n",
        "#Problema: Encontrar los dos puntos más cercanos\n",
        "#FUERZA BRUTA\n",
        "import math\n",
        "def distancia_3d(p1, p2):\n",
        "    return math.sqrt((p1[0] - p2[0])**2 + (p1[1] - p2[1])**2 + (p1[2] - p2[2])**2)\n",
        "\n",
        "def puntos_cercanos_fuerza_bruta_3d(points):\n",
        "    distancia_minima = float('inf') #Distancia mínima entre dos puntos\n",
        "    p1, p2 = None, None #Puntos cercanos\n",
        "    n = len(points)\n",
        "    for i in range(n):\n",
        "        for j in range(i + 1, n):\n",
        "            distancia = distancia_3d(points[i], points[j])\n",
        "            if distancia < distancia_minima:\n",
        "                distancia_minima = distancia\n",
        "                p1, p2 = points[i], points[j]\n",
        "    return p1, p2, distancia_minima"
      ],
      "metadata": {
        "id": "SfBkI0yMbomG"
      },
      "execution_count": 3,
      "outputs": []
    },
    {
      "cell_type": "markdown",
      "source": [
        "**ALGORITMOS DIVIDE Y VENCERAS PARA 1D, 2D Y 3D**"
      ],
      "metadata": {
        "id": "TVfPxmreFCnS"
      }
    },
    {
      "cell_type": "code",
      "source": [
        "#1D\n",
        "#Problema: Encontrar los dos puntos más cercanos\n",
        "#DIVIDE Y VENCERAS\n",
        "def puntos_cercanos_divide_venceras_1d(points):\n",
        "    def par_cercano_rec_1d(puntos_ordenados):\n",
        "        if len(puntos_ordenados) <= 3:\n",
        "            return puntos_cercanos_fuerza_bruta_1d(puntos_ordenados)\n",
        "        mitad = len(puntos_ordenados) // 2\n",
        "        valor_punto_medio = puntos_ordenados[mitad]\n",
        "        left = puntos_ordenados[:mitad]\n",
        "        right = puntos_ordenados[mitad:]\n",
        "\n",
        "        p1, p2, dist1 = par_cercano_rec_1d(left)\n",
        "        q1, q2, dist2 = par_cercano_rec_1d(right)\n",
        "\n",
        "        min_dist = min(dist1, dist2)\n",
        "        if dist1 < dist2:\n",
        "            mejor_par = (p1, p2)\n",
        "        else:\n",
        "            mejor_par = (q1, q2)\n",
        "\n",
        "        strip = [p for p in puntos_ordenados if abs(p - valor_punto_medio) < min_dist]\n",
        "\n",
        "        for i in range(len(strip)):\n",
        "            for j in range(i + 1, min(i + 7, len(strip))):\n",
        "                dist = abs(strip[i] - strip[j])\n",
        "                if dist < min_dist:\n",
        "                    min_dist = dist\n",
        "                    mejor_par = (strip[i], strip[j])\n",
        "\n",
        "        return mejor_par[0], mejor_par[1], min_dist\n",
        "\n",
        "    puntos_ordenados = sorted(points)\n",
        "    return par_cercano_rec_1d(puntos_ordenados)"
      ],
      "metadata": {
        "id": "CkQf2fteFJEb"
      },
      "execution_count": 4,
      "outputs": []
    },
    {
      "cell_type": "code",
      "source": [
        "#2D\n",
        "#Problema: Encontrar los dos puntos más cercanos\n",
        "#DIVIDE Y VENCERAS\n",
        "\n",
        "def puntos_cercanos_divide_venceras_2d(points):\n",
        "    def par_cercano_rec_2d(sorted_x, sorted_y):\n",
        "        if len(sorted_x) <= 3:\n",
        "            return puntos_cercanos_fuerza_bruta_2d(sorted_x)\n",
        "\n",
        "        mitad = len(sorted_x) // 2\n",
        "        valor_punto_medio = sorted_x[mitad]\n",
        "\n",
        "        sorted_y_left = [p for p in sorted_y if p[0] <= valor_punto_medio[0]]\n",
        "        sorted_y_right = [p for p in sorted_y if p[0] > valor_punto_medio[0]]\n",
        "\n",
        "        p1, q1, dist1 = par_cercano_rec_2d(sorted_x[:mitad], sorted_y_left)\n",
        "        p2, q2, dist2 = par_cercano_rec_2d(sorted_x[mitad:], sorted_y_right)\n",
        "\n",
        "        if dist1 < dist2:\n",
        "            d = dist1\n",
        "            mejor_par = (p1, q1)\n",
        "        else:\n",
        "            d = dist2\n",
        "            mejor_par = (p2, q2)\n",
        "\n",
        "        strip = [p for p in sorted_y if abs(p[0] - valor_punto_medio[0]) < d]\n",
        "\n",
        "        for i in range(len(strip)):\n",
        "            for j in range(i + 1, min(i + 7, len(strip))):\n",
        "                dist = distancia_2d(strip[i], strip[j])\n",
        "                if dist < d:\n",
        "                    d = dist\n",
        "                    mejor_par = (strip[i], strip[j])\n",
        "\n",
        "        return mejor_par[0], mejor_par[1], d\n",
        "\n",
        "    sorted_x = sorted(points, key=lambda x: x[0])\n",
        "    sorted_y = sorted(points, key=lambda x: x[1])\n",
        "    return par_cercano_rec_2d(sorted_x, sorted_y)"
      ],
      "metadata": {
        "id": "JxtrE8v0FMLi"
      },
      "execution_count": 5,
      "outputs": []
    },
    {
      "cell_type": "code",
      "source": [
        "#3D\n",
        "#Problema: Encontrar los dos puntos más cercanos\n",
        "#DIVIDE Y VENCERAS\n",
        "\n",
        "def puntos_cercanos_divide_venceras_3d(points):\n",
        "    def par_cercano_rec_3d(sorted_x, sorted_y, sorted_z):\n",
        "        if len(sorted_x) <= 3:\n",
        "            return puntos_cercanos_fuerza_bruta_3d(sorted_x)\n",
        "\n",
        "        mitad = len(sorted_x) // 2\n",
        "        valor_punto_medio = sorted_x[mitad]\n",
        "\n",
        "        sorted_y_left = [p for p in sorted_y if p[0] <= valor_punto_medio[0]]\n",
        "        sorted_y_right = [p for p in sorted_y if p[0] > valor_punto_medio[0]]\n",
        "\n",
        "        sorted_z_left = [p for p in sorted_z if p[0] <= valor_punto_medio[0]]\n",
        "        sorted_z_right = [p for p in sorted_z if p[0] > valor_punto_medio[0]]\n",
        "\n",
        "        p1, q1, dist1 = par_cercano_rec_3d(sorted_x[:mitad], sorted_y_left, sorted_z_left)\n",
        "        p2, q2, dist2 = par_cercano_rec_3d(sorted_x[mitad:], sorted_y_right, sorted_z_right)\n",
        "\n",
        "        if dist1 < dist2:\n",
        "            d = dist1\n",
        "            mejor_par = (p1, q1)\n",
        "        else:\n",
        "            d = dist2\n",
        "            mejor_par = (p2, q2)\n",
        "\n",
        "        strip = [p for p in sorted_y if abs(p[0] - valor_punto_medio[0]) < d]\n",
        "\n",
        "        for i in range(len(strip)):\n",
        "            for j in range(i + 1, min(i + 7, len(strip))):\n",
        "                dist = distancia_3d(strip[i], strip[j])\n",
        "                if dist < d:\n",
        "                    d = dist\n",
        "                    mejor_par = (strip[i], strip[j])\n",
        "\n",
        "        return mejor_par[0], mejor_par[1], d\n",
        "\n",
        "    sorted_x = sorted(points, key=lambda x: x[0])\n",
        "    sorted_y = sorted(points, key=lambda x: x[1])\n",
        "    sorted_z = sorted(points, key=lambda x: x[2])\n",
        "    return par_cercano_rec_3d(sorted_x, sorted_y, sorted_z)"
      ],
      "metadata": {
        "id": "sdnWePtrFPmC"
      },
      "execution_count": 6,
      "outputs": []
    },
    {
      "cell_type": "markdown",
      "source": [
        "**<h4>Generación de Puntos y Prueba de los Algoritmos</h4>**"
      ],
      "metadata": {
        "id": "E76dHDYwDVpU"
      }
    },
    {
      "cell_type": "code",
      "source": [
        "#Se generan randomicamente los puntso que seran evaluados con los algortimos propuestos\n",
        "import random\n",
        "\n",
        "# Generar puntos únicos en 1D\n",
        "LISTA_1D = list(set(random.randrange(1, 10000) for _ in range(1000)))\n",
        "\n",
        "# Generar puntos únicos en 2D\n",
        "LISTA_2D = list(set((random.randrange(1, 10000), random.randrange(1, 10000)) for _ in range(1000)))\n",
        "\n",
        "# Generar puntos únicos en 3D\n",
        "LISTA_3D = list(set((random.randrange(1, 10000), random.randrange(1, 10000), random.randrange(1, 10000)) for _ in range(1000)))"
      ],
      "metadata": {
        "id": "UUjhR8jFDcw0"
      },
      "execution_count": 7,
      "outputs": []
    },
    {
      "cell_type": "markdown",
      "source": [
        "PRUEBA DE LA EFECTIVIDAD DE LOS ALGORITMOS(VERIFICACIÓN DE LA COMPLEJIDAD Y COSTES)"
      ],
      "metadata": {
        "id": "RYyBWSZdD0M4"
      }
    },
    {
      "cell_type": "code",
      "source": [
        "#Prueba de los Algoritmos\n",
        "#Las pruebas se realizan con 1000 registros con un intervalo de números randómicos entre  1 y 10000\n",
        "# 1D\n",
        "print(\"PRUEBA Fuerza Bruta - 1D \")\n",
        "%time resultado_fuerza_bruta_1d = puntos_cercanos_fuerza_bruta_1d(LISTA_1D)\n",
        "print(resultado_fuerza_bruta_1d)\n",
        "print(\"PRUEBA Divide y Vencerás - 1D\")\n",
        "%time resultado_divide_venceras_1d = puntos_cercanos_divide_venceras_1d(LISTA_1D)\n",
        "print(resultado_divide_venceras_1d)\n",
        "print(\"\\n\")\n",
        "\n",
        "# 2D\n",
        "print(\"PRUEBA Fuerza Bruta - 2D\")\n",
        "%time resultado_brute_force_2d = puntos_cercanos_fuerza_bruta_2d(LISTA_2D)\n",
        "print(resultado_brute_force_2d)\n",
        "print(\"PRUEBA Divide y Vencerás - 2D\")\n",
        "%time resultado_divide_and_conquer_2d = puntos_cercanos_divide_venceras_2d(LISTA_2D)\n",
        "print(resultado_divide_and_conquer_2d)\n",
        "print(\"\\n\")\n",
        "\n",
        "# 3D\n",
        "print(\"PRUEBA Fuerza Bruta - 3D\")\n",
        "%time resultado_brute_force_3d = puntos_cercanos_fuerza_bruta_3d(LISTA_3D)\n",
        "print(resultado_brute_force_3d)\n",
        "print(\"PRUEBA Divide y Vencerás - 3D\")\n",
        "%time resultado_divide_and_conquer_3d = puntos_cercanos_divide_venceras_3d(LISTA_3D)\n",
        "print(resultado_divide_and_conquer_3d)"
      ],
      "metadata": {
        "colab": {
          "base_uri": "https://localhost:8080/"
        },
        "id": "eYAXmIcpDt8e",
        "outputId": "04836dd4-04e3-453b-f603-900de80fa9e4"
      },
      "execution_count": 10,
      "outputs": [
        {
          "output_type": "stream",
          "name": "stdout",
          "text": [
            "PRUEBA Fuerza Bruta - 1D \n",
            "CPU times: user 82.8 ms, sys: 0 ns, total: 82.8 ms\n",
            "Wall time: 83.8 ms\n",
            "(53, 54, 1)\n",
            "PRUEBA Divide y Vencerás - 1D\n",
            "CPU times: user 2.26 ms, sys: 0 ns, total: 2.26 ms\n",
            "Wall time: 2.26 ms\n",
            "(9847, 9848, 1)\n",
            "\n",
            "\n",
            "PRUEBA Fuerza Bruta - 2D\n",
            "CPU times: user 506 ms, sys: 0 ns, total: 506 ms\n",
            "Wall time: 506 ms\n",
            "((9710, 9410), (9710, 9405), 5.0)\n",
            "PRUEBA Divide y Vencerás - 2D\n",
            "CPU times: user 17.3 ms, sys: 0 ns, total: 17.3 ms\n",
            "Wall time: 17.2 ms\n",
            "((9710, 9405), (9710, 9410), 5.0)\n",
            "\n",
            "\n",
            "PRUEBA Fuerza Bruta - 3D\n",
            "CPU times: user 689 ms, sys: 263 µs, total: 689 ms\n",
            "Wall time: 690 ms\n",
            "((7332, 688, 8604), (7367, 734, 8600), 57.9396237474839)\n",
            "PRUEBA Divide y Vencerás - 3D\n",
            "CPU times: user 36.5 ms, sys: 0 ns, total: 36.5 ms\n",
            "Wall time: 36.5 ms\n",
            "((7332, 688, 8604), (7367, 734, 8600), 57.9396237474839)\n"
          ]
        }
      ]
    },
    {
      "cell_type": "markdown",
      "source": [
        "**Conclusión**: La implementación del algoritmo fuerza bruta es más simple pero es menos eficiente para grandes conjuntos de datos debido a su complejidad 𝑂 ( 𝑛 2 ) O(n 2 ). El algoritmo Divide y Vencerás, su enfoque es más eficiente para grandes conjuntos de datos con una complejidad 𝑂 ( 𝑛 log ⁡ 𝑛 ) O(nlogn). <br/> Aunque el enfoque \"Divide y Vencerás\" es eficiente, se pueden considerar optimizaciones adicionales mediante el uso de estructuras de datos más avanzadas, paralelización y heurísticas específicas del problema<br/>\n",
        "En costes se puede observar que el algortimo divide y vencrás es mucho mas efectivo en 1D, 2D y 3D, esto debido a que por fuerza bruta no es capaz de procesar grandes catidades de conjuntos de datos."
      ],
      "metadata": {
        "id": "il9vvpb8ENbj"
      }
    }
  ]
}