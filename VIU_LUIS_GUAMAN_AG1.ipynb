{
  "nbformat": 4,
  "nbformat_minor": 0,
  "metadata": {
    "colab": {
      "provenance": [],
      "authorship_tag": "ABX9TyNLRL8iKRKqu2eOxLJ/yaOM",
      "include_colab_link": true
    },
    "kernelspec": {
      "name": "python3",
      "display_name": "Python 3"
    },
    "language_info": {
      "name": "python"
    }
  },
  "cells": [
    {
      "cell_type": "markdown",
      "metadata": {
        "id": "view-in-github",
        "colab_type": "text"
      },
      "source": [
        "<a href=\"https://colab.research.google.com/github/gluishs/03MIAR_04_2024_25_Algoritmos_Optimizacion_LG/blob/main/VIU_LUIS_GUAMAN_AG1.ipynb\" target=\"_parent\"><img src=\"https://colab.research.google.com/assets/colab-badge.svg\" alt=\"Open In Colab\"/></a>"
      ]
    },
    {
      "cell_type": "markdown",
      "source": [
        "#Primera clase guiada\n",
        "\n",
        "\n"
      ],
      "metadata": {
        "id": "3tBwg5yzw7BZ"
      }
    },
    {
      "cell_type": "markdown",
      "source": [
        "LUIS R. GUAMAN<br/>\n",
        "Link de colab http://<br/>\n"
      ],
      "metadata": {
        "id": "Js5Sd_B79bNV"
      }
    },
    {
      "cell_type": "markdown",
      "source": [
        "**ACTIVIDAD GUIADA NRO 1** ALGORITMOS DE OPTIMIZACIÓN"
      ],
      "metadata": {
        "id": "oF_PwLiy9Prd"
      }
    },
    {
      "cell_type": "markdown",
      "source": [
        "DIVIDE Y VENCERAS TORRES DE HANOI"
      ],
      "metadata": {
        "id": "M_d_nVEUfbI7"
      }
    },
    {
      "cell_type": "code",
      "source": [
        "#Torres de Hanoi - Divide y venceras\n",
        "################################################################################\n",
        "\n",
        "\n",
        "################################################################\n",
        "def Torres_Hanoi(N, desde, hasta):\n",
        "  #N - Nº de fichas\n",
        "  #desde - torre inicial\n",
        "  #hasta - torre fina\n",
        "  if N==1 :\n",
        "    print(\"Lleva la ficha desde \" + str(desde) + \" hasta \" + str(hasta))\n",
        "\n",
        "  else:\n",
        "    Torres_Hanoi(N-1, desde, 6-desde-hasta)\n",
        "    print(\"Lleva la ficha desde \" + str(desde) + \" hasta \" + str(hasta))\n",
        "    Torres_Hanoi(N-1, 6-desde-hasta,  hasta)\n",
        "\n",
        "Torres_Hanoi(3, 1, 3)\n",
        "################################################################\n",
        "#PUNTOS EXTRAS SI SE HACE ALGO MAS COMO EJEMPLO CON FOR"
      ],
      "metadata": {
        "colab": {
          "base_uri": "https://localhost:8080/"
        },
        "id": "epqmL9Td8ecd",
        "outputId": "d5eaccc0-6c9c-4262-dc30-219c333cc7cd"
      },
      "execution_count": 3,
      "outputs": [
        {
          "output_type": "stream",
          "name": "stdout",
          "text": [
            "Lleva la ficha desde 1 hasta 3\n",
            "Lleva la ficha desde 1 hasta 2\n",
            "Lleva la ficha desde 3 hasta 2\n",
            "Lleva la ficha desde 1 hasta 3\n",
            "Lleva la ficha desde 2 hasta 1\n",
            "Lleva la ficha desde 2 hasta 3\n",
            "Lleva la ficha desde 1 hasta 3\n"
          ]
        }
      ]
    },
    {
      "cell_type": "markdown",
      "source": [
        "Algortimos voraces <br/>\n",
        "Problema cambio emonedas"
      ],
      "metadata": {
        "id": "zvjJihWXBLhN"
      }
    },
    {
      "cell_type": "code",
      "source": [
        "SISTEMA = [25,10,5,1]\n",
        "  #probar para distintos valores de N y probar con distintos sistemas"
      ],
      "metadata": {
        "id": "TFOcrVuIB8I-"
      },
      "execution_count": null,
      "outputs": []
    },
    {
      "cell_type": "code",
      "source": [
        "#Cambio de monedas - Técnica voraz\n",
        "################################################################################\n",
        "SISTEMA = [11, 5 ,  1  ]\n",
        "################################################################\n",
        "def cambio_monedas(CANTIDAD,SISTEMA):\n",
        "#....\n",
        "  SOLUCION = [0]*len(SISTEMA)\n",
        "  ValorAcumulado = 0\n",
        "\n",
        "  for i,valor in enumerate(SISTEMA):\n",
        "    monedas = (CANTIDAD-ValorAcumulado)//valor\n",
        "    SOLUCION[i] = monedas\n",
        "    ValorAcumulado = ValorAcumulado + monedas*valor\n",
        "\n",
        "    if CANTIDAD == ValorAcumulado:\n",
        "      return SOLUCION\n",
        "\n",
        "  print(\"No es posible encontrar solucion\")\n",
        "\n",
        "#cambio_monedas(15,SISTEMA)\n",
        "print(cambio_monedas(15,[11, 5 ,  1  ]))#Para 15$ devuelve en la pos 1 value 11 + pos 4 value 4\n",
        "cambio_monedas(2,[11, 5 ,  1  ])#Para $2 devuelve el la posion(2) 2 veces\n",
        "\n",
        "\n",
        "################################################################"
      ],
      "metadata": {
        "colab": {
          "base_uri": "https://localhost:8080/"
        },
        "id": "zCkKSFCQBWws",
        "outputId": "216fec6c-1139-4143-e8ca-1efb2d89127a"
      },
      "execution_count": 16,
      "outputs": [
        {
          "output_type": "stream",
          "name": "stdout",
          "text": [
            "[1, 0, 4]\n"
          ]
        },
        {
          "output_type": "execute_result",
          "data": {
            "text/plain": [
              "[0, 0, 2]"
            ]
          },
          "metadata": {},
          "execution_count": 16
        }
      ]
    },
    {
      "cell_type": "markdown",
      "source": [
        "Algoritmo de Técnica Vuelta Atras:Bactracking\n"
      ],
      "metadata": {
        "id": "8vz6gf3YGeyV"
      }
    },
    {
      "cell_type": "code",
      "source": [
        "#N Reinas - Vuelta Atrás()\n",
        "################################################################################\n",
        "\n",
        "#Verifica que en la solución parcial no hay amenzas entre reinas\n",
        "################################################################\n",
        "def es_prometedora(SOLUCION,etapa):\n",
        "################################################################\n",
        "  print(SOLUCION, etapa)\n",
        "  #Si la solución tiene dos valores iguales no es valida => Dos reinas en la misma fila\n",
        "  for i in range(etapa+1):\n",
        "    #print(\"El valor \" + str(SOLUCION[i]) + \" está \" +  str(SOLUCION.count(SOLUCION[i])) + \" veces\")\n",
        "    if SOLUCION.count(SOLUCION[i]) > 1:\n",
        "      return False\n",
        "\n",
        "    #Verifica las diagonales\n",
        "    for j in range(i+1, etapa +1 ):\n",
        "      #print(\"Comprobando diagonal de \" + str(i) + \" y \" + str(j))\n",
        "      #print(abs(i-j), abs(SOLUCION[i]-SOLUCION[j]))\n",
        "      if abs(i-j) == abs(SOLUCION[i]-SOLUCION[j]) : return False\n",
        "  return True\n",
        "\n",
        "#Traduce la solución al tablero\n",
        "################################################################\n",
        "def escribe_solucion(S):\n",
        "################################################################\n",
        "  n = len(S)\n",
        "  for x in range(n):\n",
        "    print(\"\")\n",
        "    for i in range(n):\n",
        "      if S[i] == x+1:\n",
        "        print(\" X \" , end=\"\")\n",
        "      else:\n",
        "        print(\" - \", end=\"\")\n",
        "\n",
        "\n",
        "\n",
        "#Proceso principal de N-Reinas\n",
        "################################################################\n",
        "def reinas(N, solucion=[],etapa=0):\n",
        "################################################################\n",
        "### ....\n",
        "  if len(solucion) == 0:         # [0,0,0...]\n",
        "    solucion = [0 for i in range(N) ]\n",
        "\n",
        "  for i in range(1, N+1):\n",
        "    solucion[etapa] = i\n",
        "    if es_prometedora(solucion, etapa):\n",
        "      if etapa == N-1:\n",
        "        print(solucion)\n",
        "        escribe_solucion(solucion)\n",
        "      else:\n",
        "        reinas(N, solucion, etapa+1)\n",
        "    else:\n",
        "      None\n",
        "\n",
        "  solucion[etapa] = 0\n",
        "\n",
        "reinas(4,solucion=[],etapa=0)\n",
        "#reinas(8)"
      ],
      "metadata": {
        "colab": {
          "base_uri": "https://localhost:8080/"
        },
        "id": "aqt-tVcJGkvF",
        "outputId": "e4862525-9a56-4566-a401-2addda10c2c7"
      },
      "execution_count": 20,
      "outputs": [
        {
          "output_type": "stream",
          "name": "stdout",
          "text": [
            "[1, 0, 0, 0] 0\n",
            "[1, 1, 0, 0] 1\n",
            "[1, 2, 0, 0] 1\n",
            "[1, 3, 0, 0] 1\n",
            "[1, 3, 1, 0] 2\n",
            "[1, 3, 2, 0] 2\n",
            "[1, 3, 3, 0] 2\n",
            "[1, 3, 4, 0] 2\n",
            "[1, 4, 0, 0] 1\n",
            "[1, 4, 1, 0] 2\n",
            "[1, 4, 2, 0] 2\n",
            "[1, 4, 2, 1] 3\n",
            "[1, 4, 2, 2] 3\n",
            "[1, 4, 2, 3] 3\n",
            "[1, 4, 2, 4] 3\n",
            "[1, 4, 3, 0] 2\n",
            "[1, 4, 4, 0] 2\n",
            "[2, 0, 0, 0] 0\n",
            "[2, 1, 0, 0] 1\n",
            "[2, 2, 0, 0] 1\n",
            "[2, 3, 0, 0] 1\n",
            "[2, 4, 0, 0] 1\n",
            "[2, 4, 1, 0] 2\n",
            "[2, 4, 1, 1] 3\n",
            "[2, 4, 1, 2] 3\n",
            "[2, 4, 1, 3] 3\n",
            "[2, 4, 1, 3]\n",
            "\n",
            " -  -  X  - \n",
            " X  -  -  - \n",
            " -  -  -  X \n",
            " -  X  -  - [2, 4, 1, 4] 3\n",
            "[2, 4, 2, 0] 2\n",
            "[2, 4, 3, 0] 2\n",
            "[2, 4, 4, 0] 2\n",
            "[3, 0, 0, 0] 0\n",
            "[3, 1, 0, 0] 1\n",
            "[3, 1, 1, 0] 2\n",
            "[3, 1, 2, 0] 2\n",
            "[3, 1, 3, 0] 2\n",
            "[3, 1, 4, 0] 2\n",
            "[3, 1, 4, 1] 3\n",
            "[3, 1, 4, 2] 3\n",
            "[3, 1, 4, 2]\n",
            "\n",
            " -  X  -  - \n",
            " -  -  -  X \n",
            " X  -  -  - \n",
            " -  -  X  - [3, 1, 4, 3] 3\n",
            "[3, 1, 4, 4] 3\n",
            "[3, 2, 0, 0] 1\n",
            "[3, 3, 0, 0] 1\n",
            "[3, 4, 0, 0] 1\n",
            "[4, 0, 0, 0] 0\n",
            "[4, 1, 0, 0] 1\n",
            "[4, 1, 1, 0] 2\n",
            "[4, 1, 2, 0] 2\n",
            "[4, 1, 3, 0] 2\n",
            "[4, 1, 3, 1] 3\n",
            "[4, 1, 3, 2] 3\n",
            "[4, 1, 3, 3] 3\n",
            "[4, 1, 3, 4] 3\n",
            "[4, 1, 4, 0] 2\n",
            "[4, 2, 0, 0] 1\n",
            "[4, 2, 1, 0] 2\n",
            "[4, 2, 2, 0] 2\n",
            "[4, 2, 3, 0] 2\n",
            "[4, 2, 4, 0] 2\n",
            "[4, 3, 0, 0] 1\n",
            "[4, 4, 0, 0] 1\n"
          ]
        }
      ]
    },
    {
      "cell_type": "markdown",
      "source": [
        "PROGRAMACION DINAMICA\n",
        "Problema: Viaje por el rio"
      ],
      "metadata": {
        "id": "scsN6yDRju9j"
      }
    },
    {
      "cell_type": "code",
      "source": [
        "#Viaje por el rio - Programacion dinamica\n",
        "def Precios(TARIFAS):\n",
        "  #Total de Nodos\n",
        "  N = len(TARIFAS[0])\n",
        "\n",
        "  #Inicializacion de la tabla de precios\n",
        "  PRECIOS = [ [9999]*N for i in [9999]*N]\n",
        "  RUTA = [[\"\"]*N for i in[\"\"]*N]\n",
        "\n",
        "  for i in range(N-1):\n",
        "    for j in range(i+1, N):\n",
        "      MIN = TARIFAS[i][j]\n",
        "      RUTA[i][j] = i\n",
        "\n",
        "      for k in range(i, j):\n",
        "        if PRECIOS[i][k] + TARIFAS[k][j] < MIN:\n",
        "          MIN = min(MIN, PRECIOS[i][k] + TARIFAS[k][j])\n",
        "          RUTA[i][j] = k\n",
        "        PRECIOS[i][j] = MIN\n",
        "  return PRECIOS, RUTA\n",
        "\n",
        "TARIFAS =[\n",
        "    [0,5,4,3,999,999,999],\n",
        "    [999,0,999,2,3,999,11],\n",
        "    [999,999,0,1,999,4,10],\n",
        "    [999,999,999,0,5,6,9],\n",
        "    [999,999,999,999,0,999,4],\n",
        "    [999,999,999,999,999,0,3],\n",
        "    [999,999,999,999,999,999,0]\n",
        "]\n",
        "\n",
        "PRECIOS = Precios(TARIFAS)\n",
        "\n",
        "#RUTA = Precios(TARIFAS)\n",
        "\n",
        "def calcular_ruta(RUTA, desde, hasta):\n",
        "  #print(RUTA)\n",
        "  if desde == hasta:\n",
        "    #print(\"Ir a :\" + str(desde))\n",
        "    return desde\n",
        "  else:\n",
        "    return str(calcular_ruta(RUTA, desde, RUTA[desde][hasta])) + ',' + str(RUTA[desde][hasta])\n",
        "\n",
        "\n",
        "print(\"\\n La RUTA es:\")\n",
        "print(calcular_ruta(PRECIOS[1], 0,6))\n",
        "\n",
        "PRECIOS\n"
      ],
      "metadata": {
        "colab": {
          "base_uri": "https://localhost:8080/"
        },
        "id": "q63F83HmkD4c",
        "outputId": "fcfe0621-8af0-473a-be21-79884bfaf43e"
      },
      "execution_count": 50,
      "outputs": [
        {
          "output_type": "stream",
          "name": "stdout",
          "text": [
            "\n",
            " La RUTA es:\n",
            "0,0,2,5\n"
          ]
        },
        {
          "output_type": "execute_result",
          "data": {
            "text/plain": [
              "([[9999, 5, 4, 3, 8, 8, 11],\n",
              "  [9999, 9999, 999, 2, 3, 8, 7],\n",
              "  [9999, 9999, 9999, 1, 6, 4, 7],\n",
              "  [9999, 9999, 9999, 9999, 5, 6, 9],\n",
              "  [9999, 9999, 9999, 9999, 9999, 999, 4],\n",
              "  [9999, 9999, 9999, 9999, 9999, 9999, 3],\n",
              "  [9999, 9999, 9999, 9999, 9999, 9999, 9999]],\n",
              " [['', 0, 0, 0, 1, 2, 5],\n",
              "  ['', '', 1, 1, 1, 3, 4],\n",
              "  ['', '', '', 2, 3, 2, 5],\n",
              "  ['', '', '', '', 3, 3, 3],\n",
              "  ['', '', '', '', '', 4, 4],\n",
              "  ['', '', '', '', '', '', 5],\n",
              "  ['', '', '', '', '', '', '']])"
            ]
          },
          "metadata": {},
          "execution_count": 50
        }
      ]
    },
    {
      "cell_type": "code",
      "source": [],
      "metadata": {
        "id": "-QnnLF82sU20"
      },
      "execution_count": null,
      "outputs": []
    }
  ]
}